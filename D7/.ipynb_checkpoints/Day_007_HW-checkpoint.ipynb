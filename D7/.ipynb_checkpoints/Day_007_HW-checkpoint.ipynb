{
 "cells": [
  {
   "cell_type": "markdown",
   "metadata": {},
   "source": [
    "# 處理 outliers\n",
    "* 新增欄位註記\n",
    "* outliers 或 NA 填補\n",
    "    1. 平均數 (mean)\n",
    "    2. 中位數 (median, or Q50)\n",
    "    3. 最大/最小值 (max/min, Q100, Q0)\n",
    "    4. 分位數 (quantile)"
   ]
  },
  {
   "cell_type": "code",
   "execution_count": null,
   "metadata": {},
   "outputs": [],
   "source": [
    "# Import 需要的套件\n",
    "import os\n",
    "import numpy as np\n",
    "import pandas as pd\n",
    "import matplotlib.pyplot as plt\n",
    "\n",
    "%matplotlib inline\n",
    "\n",
    "# 設定 data_path\n",
    "dir_data = '../DATA/'"
   ]
  },
  {
   "cell_type": "code",
   "execution_count": null,
   "metadata": {},
   "outputs": [],
   "source": [
    "f_app = os.path.join(dir_data, 'application_train.csv')\n",
    "print('Path of read in data: %s' % (f_app))\n",
    "app_train = pd.read_csv(f_app)\n",
    "app_train.head()"
   ]
  },
  {
   "cell_type": "markdown",
   "metadata": {},
   "source": [
    "## 1. 列出 AMT_ANNUITY 的 q0 - q100\n",
    "## 2.1 將 AMT_ANNUITY 中的 NAs 暫時以中位數填補\n",
    "## 2.2 將 AMT_ANNUITY 的數值標準化至 -1 ~ 1 間\n",
    "## 3. 將 AMT_GOOD_PRICE 的 NAs 以眾數填補\n"
   ]
  },
  {
   "cell_type": "code",
   "execution_count": null,
   "metadata": {
    "scrolled": true
   },
   "outputs": [],
   "source": [
    "\"\"\"\n",
    "YOUR CODE HERE\n",
    "\"\"\"\n",
    "# 1: 計算 AMT_ANNUITY 的 q0 - q100\n",
    "q_all =\n",
    "\n",
    "pd.DataFrame({'q': list(range(101)),\n",
    "              'value': q_all})"
   ]
  },
  {
   "cell_type": "code",
   "execution_count": null,
   "metadata": {},
   "outputs": [],
   "source": [
    "# 2.1 將 NAs 以 q50 填補\n",
    "print(\"Before replace NAs, numbers of row that AMT_ANNUITY is NAs: %i\" % sum(app_train['AMT_ANNUITY'].isnull()))\n",
    "\n",
    "\"\"\"\n",
    "Your Code Here\n",
    "\"\"\"\n",
    "q_50 = \n",
    "app_train.loc[app_train['AMT_ANNUITY'].isnull(),'AMT_ANNUITY'] = q_50\n",
    "\n",
    "print(\"After replace NAs, numbers of row that AMT_ANNUITY is NAs: %i\" % sum(app_train['AMT_ANNUITY'].isnull()))"
   ]
  },
  {
   "cell_type": "markdown",
   "metadata": {},
   "source": [
    "### Hints: Normalize function (to -1 ~ 1)\n",
    "$ y = 2*(\\frac{x - min(x)}{max(x) - min(x)} - 0.5) $"
   ]
  },
  {
   "cell_type": "code",
   "execution_count": null,
   "metadata": {},
   "outputs": [],
   "source": [
    "# 2.2 Normalize values to -1 to 1\n",
    "print(\"== Original data range ==\")\n",
    "print(app_train['AMT_ANNUITY'].describe())\n",
    "\n",
    "def normalize_value(x):\n",
    "    \"\"\"\n",
    "    Your Code Here, compelete this function\n",
    "    \"\"\"\n",
    "    \n",
    "    return x\n",
    "\n",
    "app_train['AMT_ANNUITY_NORMALIZED'] = normalize_value(app_train['AMT_ANNUITY'])\n",
    "\n",
    "print(\"== Normalized data range ==\")\n",
    "app_train['AMT_ANNUITY_NORMALIZED'].describe()"
   ]
  },
  {
   "cell_type": "code",
   "execution_count": null,
   "metadata": {},
   "outputs": [],
   "source": [
    "# 3\n",
    "print(\"Before replace NAs, numbers of row that AMT_GOODS_PRICE is NAs: %i\" % sum(app_train['AMT_GOODS_PRICE'].isnull()))\n",
    "\n",
    "# 列出重複最多的數值\n",
    "\"\"\"\n",
    "Your Code Here\n",
    "\"\"\"\n",
    "value_most = \n",
    "print(value_most)\n",
    "\n",
    "mode_goods_price = list(app_train['AMT_GOODS_PRICE'].value_counts().index)\n",
    "app_train.loc[app_train['AMT_GOODS_PRICE'].isnull(), 'AMT_GOODS_PRICE'] = mode_goods_price[0]\n",
    "\n",
    "print(\"After replace NAs, numbers of row that AMT_GOODS_PRICE is NAs: %i\" % sum(app_train['AMT_GOODS_PRICE'].isnull()))"
   ]
  }
 ],
 "metadata": {
  "anaconda-cloud": {},
  "kernelspec": {
   "display_name": "Python 3",
   "language": "python",
   "name": "python3"
  },
  "language_info": {
   "codemirror_mode": {
    "name": "ipython",
    "version": 3
   },
   "file_extension": ".py",
   "mimetype": "text/x-python",
   "name": "python",
   "nbconvert_exporter": "python",
   "pygments_lexer": "ipython3",
   "version": "3.7.1"
  }
 },
 "nbformat": 4,
 "nbformat_minor": 1
}
