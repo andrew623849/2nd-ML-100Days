{
 "cells": [
  {
   "cell_type": "markdown",
   "metadata": {},
   "source": [
    "## 練習時間\n",
    "在小量的資料上，我們用眼睛就可以看得出來程式碼是否有跑出我們理想中的結果\n",
    "\n",
    "請嘗試想像一個你需要的資料結構 (裡面的值可以是隨機的)，然後用上述的方法把它變成 pandas DataFrame\n",
    "\n",
    "#### Ex: 想像一個 dataframe 有兩個欄位，一個是國家，一個是人口，求人口數最多的國家\n",
    "\n",
    "### Hints: [隨機產生數值](https://blog.csdn.net/christianashannon/article/details/78867204)"
   ]
  },
  {
   "cell_type": "code",
   "execution_count": 46,
   "metadata": {},
   "outputs": [],
   "source": [
    "import pandas as pd\n",
    "import numpy as np\n",
    "import math"
   ]
  },
  {
   "cell_type": "code",
   "execution_count": 43,
   "metadata": {},
   "outputs": [],
   "source": [
    "import random\n",
    "\"\"\"\n",
    "    建立亂數陣列的模組\n",
    "    input:\n",
    "        start(int)  為亂數中的最小值\n",
    "        stop(int)   為亂數中的最大值\n",
    "        length(int) 為亂數的長度\n",
    "    return:\n",
    "        list(arr)   亂數陣列\n",
    "\"\"\"\n",
    "\n",
    "def random_list(start,stop,length):\n",
    "    if length>0:\n",
    "        if start <= stop: \n",
    "         list = []\n",
    "        else:\n",
    "            return \"最小值不能大於最大值\"\n",
    "    else:\n",
    "        return \"長度要大於0\"\n",
    "    for i in range(length):\n",
    "        list.append(random.randint(start, stop))\n",
    "    return list\n"
   ]
  },
  {
   "cell_type": "code",
   "execution_count": 67,
   "metadata": {},
   "outputs": [
    {
     "name": "stdout",
     "output_type": "stream",
     "text": [
      "0    30862336\n",
      "1    15220713\n",
      "2    78925161\n",
      "3     9465730\n",
      "4    57779129\n",
      "5    88976858\n",
      "6    64422142\n",
      "7    41790491\n",
      "8    40672732\n",
      "Name: 人口, dtype: int64\n"
     ]
    }
   ],
   "source": [
    "country = ['台灣','日本','韓國','美國','德國','加拿大','法國','印度','中國'] #國家\n",
    "number = random_list(1000000,100000000,len(country))\n",
    "data = {'國家': country ,\n",
    "        '人口': number }\n",
    "data = pd.DataFrame(data)\n",
    "print(data['人口'])\n"
   ]
  },
  {
   "cell_type": "code",
   "execution_count": 77,
   "metadata": {},
   "outputs": [],
   "source": [
    "\"\"\"\n",
    "    找出陣列某一欄的最大值顯示該其他欄位資料\n",
    "    input:\n",
    "        data(arr) 該資料\n",
    "        key(str) 比較最大值的欄位\n",
    "        show_key(str) 要找的欄位\n",
    "    return:\n",
    "        show_val(val) 找的欄位的資料\n",
    "        max_key(val) key的最大值\n",
    "\"\"\"\n",
    "def max_country_name(data,key,show_key):\n",
    "    for i in range(len(data[key])):\n",
    "        if data[key][i] == max(data[key]):\n",
    "            show_val = data[show_key][i]\n",
    "            max_key = data[key][i]\n",
    "    return [show_val,max_key]"
   ]
  },
  {
   "cell_type": "code",
   "execution_count": null,
   "metadata": {},
   "outputs": [],
   "source": [
    "max_arr = max_country_name(data,'人口','國家')\n",
    "print('人口數最多的國家是',max_arr[0],'人口數為:',max_arr[1])"
   ]
  }
 ],
 "metadata": {
  "kernelspec": {
   "display_name": "Python 3",
   "language": "python",
   "name": "python3"
  },
  "language_info": {
   "codemirror_mode": {
    "name": "ipython",
    "version": 3
   },
   "file_extension": ".py",
   "mimetype": "text/x-python",
   "name": "python",
   "nbconvert_exporter": "python",
   "pygments_lexer": "ipython3",
   "version": "3.7.1"
  }
 },
 "nbformat": 4,
 "nbformat_minor": 2
}
