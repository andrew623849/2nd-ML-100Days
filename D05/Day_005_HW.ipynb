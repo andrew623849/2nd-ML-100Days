{
 "cells": [
  {
   "cell_type": "markdown",
   "metadata": {},
   "source": [
    "## [上一天 D4 EDA: 欄位的資料類型介紹及處理](https://github.com/andrew623849/2nd-ML-100Days/blob/master/D04/Day_004_HW.ipynb)\n"
   ]
  },
  {
   "cell_type": "code",
   "execution_count": 2,
   "metadata": {},
   "outputs": [],
   "source": [
    "# Import 需要的套件\n",
    "import os\n",
    "import numpy as np\n",
    "import pandas as pd\n",
    "\n",
    "# 設定 data_path\n",
    "dir_data = '../DATA/'"
   ]
  },
  {
   "cell_type": "code",
   "execution_count": 3,
   "metadata": {},
   "outputs": [],
   "source": [
    "f_app_train = os.path.join(dir_data, 'application_train.csv')\n",
    "app_train = pd.read_csv(f_app_train)\n"
   ]
  },
  {
   "cell_type": "code",
   "execution_count": 4,
   "metadata": {},
   "outputs": [],
   "source": [
    "import matplotlib.pyplot as plt\n",
    "%matplotlib inline"
   ]
  },
  {
   "cell_type": "markdown",
   "metadata": {},
   "source": [
    "## 練習時間"
   ]
  },
  {
   "cell_type": "markdown",
   "metadata": {},
   "source": [
    "觀察有興趣的欄位的資料分佈，並嘗試找出有趣的訊息\n",
    "#### Eg\n",
    "- 計算任意欄位的平均數及標準差\n",
    "- 畫出任意欄位的[直方圖](https://zh.wikipedia.org/zh-tw/%E7%9B%B4%E6%96%B9%E5%9B%BE)\n",
    "\n",
    "### Hints:\n",
    "- [Descriptive Statistics For pandas Dataframe](https://chrisalbon.com/python/data_wrangling/pandas_dataframe_descriptive_stats/)\n",
    "- [pandas 中的繪圖函數](https://amaozhao.gitbooks.io/pandas-notebook/content/pandas%E4%B8%AD%E7%9A%84%E7%BB%98%E5%9B%BE%E5%87%BD%E6%95%B0.html)\n"
   ]
  },
  {
   "cell_type": "code",
   "execution_count": 5,
   "metadata": {},
   "outputs": [
    {
     "name": "stdout",
     "output_type": "stream",
     "text": [
      "整數型態欄位:\n",
      "SK_ID_CURR                     278180.518577\n",
      "TARGET                              0.080729\n",
      "CNT_CHILDREN                        0.417052\n",
      "DAYS_BIRTH                     -16036.995067\n",
      "DAYS_EMPLOYED                   63815.045904\n",
      "DAYS_ID_PUBLISH                 -2994.202373\n",
      "FLAG_MOBIL                          0.999997\n",
      "FLAG_EMP_PHONE                      0.819889\n",
      "FLAG_WORK_PHONE                     0.199368\n",
      "FLAG_CONT_MOBILE                    0.998133\n",
      "FLAG_PHONE                          0.281066\n",
      "FLAG_EMAIL                          0.056720\n",
      "REGION_RATING_CLIENT                2.052463\n",
      "REGION_RATING_CLIENT_W_CITY         2.031521\n",
      "HOUR_APPR_PROCESS_START            12.063419\n",
      "REG_REGION_NOT_LIVE_REGION          0.015144\n",
      "REG_REGION_NOT_WORK_REGION          0.050769\n",
      "LIVE_REGION_NOT_WORK_REGION         0.040659\n",
      "REG_CITY_NOT_LIVE_CITY              0.078173\n",
      "REG_CITY_NOT_WORK_CITY              0.230454\n",
      "LIVE_CITY_NOT_WORK_CITY             0.179555\n",
      "FLAG_DOCUMENT_2                     0.000042\n",
      "FLAG_DOCUMENT_3                     0.710023\n",
      "FLAG_DOCUMENT_4                     0.000081\n",
      "FLAG_DOCUMENT_5                     0.015115\n",
      "FLAG_DOCUMENT_6                     0.088055\n",
      "FLAG_DOCUMENT_7                     0.000192\n",
      "FLAG_DOCUMENT_8                     0.081376\n",
      "FLAG_DOCUMENT_9                     0.003896\n",
      "FLAG_DOCUMENT_10                    0.000023\n",
      "FLAG_DOCUMENT_11                    0.003912\n",
      "FLAG_DOCUMENT_12                    0.000007\n",
      "FLAG_DOCUMENT_13                    0.003525\n",
      "FLAG_DOCUMENT_14                    0.002936\n",
      "FLAG_DOCUMENT_15                    0.001210\n",
      "FLAG_DOCUMENT_16                    0.009928\n",
      "FLAG_DOCUMENT_17                    0.000267\n",
      "FLAG_DOCUMENT_18                    0.008130\n",
      "FLAG_DOCUMENT_19                    0.000595\n",
      "FLAG_DOCUMENT_20                    0.000507\n",
      "FLAG_DOCUMENT_21                    0.000335\n",
      "dtype: float64\n",
      "浮點數型態欄位:\n",
      "AMT_INCOME_TOTAL                168797.919297\n",
      "AMT_CREDIT                      599025.999706\n",
      "AMT_ANNUITY                      27108.573909\n",
      "AMT_GOODS_PRICE                 538396.207429\n",
      "REGION_POPULATION_RELATIVE           0.020868\n",
      "DAYS_REGISTRATION                -4986.120328\n",
      "OWN_CAR_AGE                         12.061091\n",
      "CNT_FAM_MEMBERS                      2.152665\n",
      "EXT_SOURCE_1                         0.502130\n",
      "EXT_SOURCE_2                         0.514393\n",
      "EXT_SOURCE_3                         0.510853\n",
      "APARTMENTS_AVG                       0.117440\n",
      "BASEMENTAREA_AVG                     0.088442\n",
      "YEARS_BEGINEXPLUATATION_AVG          0.977735\n",
      "YEARS_BUILD_AVG                      0.752471\n",
      "COMMONAREA_AVG                       0.044621\n",
      "ELEVATORS_AVG                        0.078942\n",
      "ENTRANCES_AVG                        0.149725\n",
      "FLOORSMAX_AVG                        0.226282\n",
      "FLOORSMIN_AVG                        0.231894\n",
      "LANDAREA_AVG                         0.066333\n",
      "LIVINGAPARTMENTS_AVG                 0.100775\n",
      "LIVINGAREA_AVG                       0.107399\n",
      "NONLIVINGAPARTMENTS_AVG              0.008809\n",
      "NONLIVINGAREA_AVG                    0.028358\n",
      "APARTMENTS_MODE                      0.114231\n",
      "BASEMENTAREA_MODE                    0.087543\n",
      "YEARS_BEGINEXPLUATATION_MODE         0.977065\n",
      "YEARS_BUILD_MODE                     0.759637\n",
      "COMMONAREA_MODE                      0.042553\n",
      "                                    ...      \n",
      "LIVINGAPARTMENTS_MODE                0.105645\n",
      "LIVINGAREA_MODE                      0.105975\n",
      "NONLIVINGAPARTMENTS_MODE             0.008076\n",
      "NONLIVINGAREA_MODE                   0.027022\n",
      "APARTMENTS_MEDI                      0.117850\n",
      "BASEMENTAREA_MEDI                    0.087955\n",
      "YEARS_BEGINEXPLUATATION_MEDI         0.977752\n",
      "YEARS_BUILD_MEDI                     0.755746\n",
      "COMMONAREA_MEDI                      0.044595\n",
      "ELEVATORS_MEDI                       0.078078\n",
      "ENTRANCES_MEDI                       0.149213\n",
      "FLOORSMAX_MEDI                       0.225897\n",
      "FLOORSMIN_MEDI                       0.231625\n",
      "LANDAREA_MEDI                        0.067169\n",
      "LIVINGAPARTMENTS_MEDI                0.101954\n",
      "LIVINGAREA_MEDI                      0.108607\n",
      "NONLIVINGAPARTMENTS_MEDI             0.008651\n",
      "NONLIVINGAREA_MEDI                   0.028236\n",
      "TOTALAREA_MODE                       0.102547\n",
      "OBS_30_CNT_SOCIAL_CIRCLE             1.422245\n",
      "DEF_30_CNT_SOCIAL_CIRCLE             0.143421\n",
      "OBS_60_CNT_SOCIAL_CIRCLE             1.405292\n",
      "DEF_60_CNT_SOCIAL_CIRCLE             0.100049\n",
      "DAYS_LAST_PHONE_CHANGE            -962.858788\n",
      "AMT_REQ_CREDIT_BUREAU_HOUR           0.006402\n",
      "AMT_REQ_CREDIT_BUREAU_DAY            0.007000\n",
      "AMT_REQ_CREDIT_BUREAU_WEEK           0.034362\n",
      "AMT_REQ_CREDIT_BUREAU_MON            0.267395\n",
      "AMT_REQ_CREDIT_BUREAU_QRT            0.265474\n",
      "AMT_REQ_CREDIT_BUREAU_YEAR           1.899974\n",
      "Length: 65, dtype: float64\n"
     ]
    }
   ],
   "source": [
    "print(\"整數型態欄位:\")\n",
    "print(app_train.select_dtypes(include=[\"int64\"]).mean())\n",
    "print(\"浮點數型態欄位:\")\n",
    "print(app_train.select_dtypes(include=[\"float64\"]).mean())\n"
   ]
  },
  {
   "cell_type": "code",
   "execution_count": 6,
   "metadata": {
    "scrolled": true
   },
   "outputs": [
    {
     "name": "stdout",
     "output_type": "stream",
     "text": [
      "整數型態欄位:\n",
      "SK_ID_CURR                     102790.175348\n",
      "TARGET                              0.272419\n",
      "CNT_CHILDREN                        0.722121\n",
      "DAYS_BIRTH                       4363.988632\n",
      "DAYS_EMPLOYED                  141275.766519\n",
      "DAYS_ID_PUBLISH                  1509.450419\n",
      "FLAG_MOBIL                          0.001803\n",
      "FLAG_EMP_PHONE                      0.384280\n",
      "FLAG_WORK_PHONE                     0.399526\n",
      "FLAG_CONT_MOBILE                    0.043164\n",
      "FLAG_PHONE                          0.449521\n",
      "FLAG_EMAIL                          0.231307\n",
      "REGION_RATING_CLIENT                0.509034\n",
      "REGION_RATING_CLIENT_W_CITY         0.502737\n",
      "HOUR_APPR_PROCESS_START             3.265832\n",
      "REG_REGION_NOT_LIVE_REGION          0.122126\n",
      "REG_REGION_NOT_WORK_REGION          0.219526\n",
      "LIVE_REGION_NOT_WORK_REGION         0.197499\n",
      "REG_CITY_NOT_LIVE_CITY              0.268444\n",
      "REG_CITY_NOT_WORK_CITY              0.421124\n",
      "LIVE_CITY_NOT_WORK_CITY             0.383817\n",
      "FLAG_DOCUMENT_2                     0.006502\n",
      "FLAG_DOCUMENT_3                     0.453752\n",
      "FLAG_DOCUMENT_4                     0.009016\n",
      "FLAG_DOCUMENT_5                     0.122010\n",
      "FLAG_DOCUMENT_6                     0.283376\n",
      "FLAG_DOCUMENT_7                     0.013850\n",
      "FLAG_DOCUMENT_8                     0.273412\n",
      "FLAG_DOCUMENT_9                     0.062295\n",
      "FLAG_DOCUMENT_10                    0.004771\n",
      "FLAG_DOCUMENT_11                    0.062424\n",
      "FLAG_DOCUMENT_12                    0.002550\n",
      "FLAG_DOCUMENT_13                    0.059268\n",
      "FLAG_DOCUMENT_14                    0.054110\n",
      "FLAG_DOCUMENT_15                    0.034760\n",
      "FLAG_DOCUMENT_16                    0.099144\n",
      "FLAG_DOCUMENT_17                    0.016327\n",
      "FLAG_DOCUMENT_18                    0.089798\n",
      "FLAG_DOCUMENT_19                    0.024387\n",
      "FLAG_DOCUMENT_20                    0.022518\n",
      "FLAG_DOCUMENT_21                    0.018299\n",
      "dtype: float64\n",
      "浮點數型態欄位:\n",
      "AMT_INCOME_TOTAL                237123.146279\n",
      "AMT_CREDIT                      402490.776996\n",
      "AMT_ANNUITY                      14493.737315\n",
      "AMT_GOODS_PRICE                 369446.460540\n",
      "REGION_POPULATION_RELATIVE           0.013831\n",
      "DAYS_REGISTRATION                 3522.886321\n",
      "OWN_CAR_AGE                         11.944812\n",
      "CNT_FAM_MEMBERS                      0.910682\n",
      "EXT_SOURCE_1                         0.211062\n",
      "EXT_SOURCE_2                         0.191060\n",
      "EXT_SOURCE_3                         0.194844\n",
      "APARTMENTS_AVG                       0.108240\n",
      "BASEMENTAREA_AVG                     0.082438\n",
      "YEARS_BEGINEXPLUATATION_AVG          0.059223\n",
      "YEARS_BUILD_AVG                      0.113280\n",
      "COMMONAREA_AVG                       0.076036\n",
      "ELEVATORS_AVG                        0.134576\n",
      "ENTRANCES_AVG                        0.100049\n",
      "FLOORSMAX_AVG                        0.144641\n",
      "FLOORSMIN_AVG                        0.161380\n",
      "LANDAREA_AVG                         0.081184\n",
      "LIVINGAPARTMENTS_AVG                 0.092576\n",
      "LIVINGAREA_AVG                       0.110565\n",
      "NONLIVINGAPARTMENTS_AVG              0.047732\n",
      "NONLIVINGAREA_AVG                    0.069523\n",
      "APARTMENTS_MODE                      0.107936\n",
      "BASEMENTAREA_MODE                    0.084307\n",
      "YEARS_BEGINEXPLUATATION_MODE         0.064575\n",
      "YEARS_BUILD_MODE                     0.110111\n",
      "COMMONAREA_MODE                      0.074445\n",
      "                                    ...      \n",
      "LIVINGAPARTMENTS_MODE                0.097880\n",
      "LIVINGAREA_MODE                      0.111845\n",
      "NONLIVINGAPARTMENTS_MODE             0.046276\n",
      "NONLIVINGAREA_MODE                   0.070254\n",
      "APARTMENTS_MEDI                      0.109076\n",
      "BASEMENTAREA_MEDI                    0.082179\n",
      "YEARS_BEGINEXPLUATATION_MEDI         0.059897\n",
      "YEARS_BUILD_MEDI                     0.112066\n",
      "COMMONAREA_MEDI                      0.076144\n",
      "ELEVATORS_MEDI                       0.134467\n",
      "ENTRANCES_MEDI                       0.100368\n",
      "FLOORSMAX_MEDI                       0.145067\n",
      "FLOORSMIN_MEDI                       0.161934\n",
      "LANDAREA_MEDI                        0.082167\n",
      "LIVINGAPARTMENTS_MEDI                0.093642\n",
      "LIVINGAREA_MEDI                      0.112260\n",
      "NONLIVINGAPARTMENTS_MEDI             0.047415\n",
      "NONLIVINGAREA_MEDI                   0.070166\n",
      "TOTALAREA_MODE                       0.107462\n",
      "OBS_30_CNT_SOCIAL_CIRCLE             2.400989\n",
      "DEF_30_CNT_SOCIAL_CIRCLE             0.446698\n",
      "OBS_60_CNT_SOCIAL_CIRCLE             2.379803\n",
      "DEF_60_CNT_SOCIAL_CIRCLE             0.362291\n",
      "DAYS_LAST_PHONE_CHANGE             826.808487\n",
      "AMT_REQ_CREDIT_BUREAU_HOUR           0.083849\n",
      "AMT_REQ_CREDIT_BUREAU_DAY            0.110757\n",
      "AMT_REQ_CREDIT_BUREAU_WEEK           0.204685\n",
      "AMT_REQ_CREDIT_BUREAU_MON            0.916002\n",
      "AMT_REQ_CREDIT_BUREAU_QRT            0.794056\n",
      "AMT_REQ_CREDIT_BUREAU_YEAR           1.869295\n",
      "Length: 65, dtype: float64\n"
     ]
    }
   ],
   "source": [
    "print(\"整數型態欄位:\")\n",
    "print(app_train.select_dtypes(include=[\"int64\"]).std())\n",
    "print(\"浮點數型態欄位:\")\n",
    "print(app_train.select_dtypes(include=[\"float64\"]).std())"
   ]
  },
  {
   "cell_type": "code",
   "execution_count": 7,
   "metadata": {},
   "outputs": [],
   "source": [
    "    import numpy as np  \n",
    "    import matplotlib.mlab as mlab  \n",
    "    import matplotlib.pyplot as plt \n",
    "    def col_num(col,num):\n",
    "        head = [];\n",
    "        k = 0;\n",
    "        for i in app_train[col].head(num):\n",
    "            head.append(i)\n",
    "            if i == 16:\n",
    "                k += 1\n",
    "        for i in range(max(head)+1):\n",
    "            if(head.count(i) != 0):\n",
    "                print(i,\":有\",head.count(i),\"個\")\n",
    "                k += 1\n",
    "        plt.hist(app_train[col].head(num),k,rwidth = 0.8,facecolor='g',align='mid',alpha=0.5)\n",
    "        plt.xlabel('Value')\n",
    "        plt.ylabel('count')\n",
    "        plt.xticks(np.arange(min(app_train[col].head(num)),max(app_train[col].head(num)),1))\n",
    "        plt.show()"
   ]
  },
  {
   "cell_type": "code",
   "execution_count": 8,
   "metadata": {},
   "outputs": [
    {
     "name": "stdout",
     "output_type": "stream",
     "text": [
      "3 :有 1 個\n",
      "6 :有 2 個\n",
      "7 :有 1 個\n",
      "8 :有 5 個\n",
      "9 :有 15 個\n",
      "10 :有 17 個\n",
      "11 :有 13 個\n",
      "12 :有 15 個\n",
      "13 :有 8 個\n",
      "14 :有 7 個\n",
      "15 :有 4 個\n",
      "16 :有 6 個\n",
      "17 :有 4 個\n",
      "18 :有 1 個\n",
      "19 :有 1 個\n"
     ]
    },
    {
     "data": {
      "image/png": "[encoded data removed]",
      "text/plain": [
       "<Figure size 432x288 with 1 Axes>"
      ]
     },
     "metadata": {
      "needs_background": "light"
     },
     "output_type": "display_data"
    }
   ],
   "source": [
    "col_num('HOUR_APPR_PROCESS_START',100)"
   ]
  },
  {
   "cell_type": "markdown",
   "metadata": {},
   "source": [
    "## [下一天 D6 EDA: Outlier 及處理](https://github.com/andrew623849/2nd-ML-100Days/blob/master/D06/Day_006_HW.ipynb)\n"
   ]
  },
  {
   "cell_type": "code",
   "execution_count": null,
   "metadata": {},
   "outputs": [],
   "source": []
  }
 ],
 "metadata": {
  "kernelspec": {
   "display_name": "Python 3",
   "language": "python",
   "name": "python3"
  },
  "language_info": {
   "codemirror_mode": {
    "name": "ipython",
    "version": 3
   },
   "file_extension": ".py",
   "mimetype": "text/x-python",
   "name": "python",
   "nbconvert_exporter": "python",
   "pygments_lexer": "ipython3",
   "version": "3.7.1"
  }
 },
 "nbformat": 4,
 "nbformat_minor": 2
}
