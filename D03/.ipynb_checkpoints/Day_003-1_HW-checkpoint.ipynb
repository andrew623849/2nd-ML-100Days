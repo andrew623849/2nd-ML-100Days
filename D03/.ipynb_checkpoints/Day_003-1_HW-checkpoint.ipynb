{
 "cells": [
  {
   "cell_type": "markdown",
   "metadata": {},
   "source": [
    "## [上一天 D2 :EDA-1/讀取資料EDA: Data summary](https://github.com/andrew623849/2nd-ML-100Days/blob/master/D02/Day_002_HW.ipynb)\n"
   ]
  },
  {
   "cell_type": "markdown",
   "metadata": {},
   "source": [
    "## 練習時間\n",
    "在小量的資料上，我們用眼睛就可以看得出來程式碼是否有跑出我們理想中的結果\n",
    "\n",
    "請嘗試想像一個你需要的資料結構 (裡面的值可以是隨機的)，然後用上述的方法把它變成 pandas DataFrame\n",
    "\n",
    "#### Ex: 想像一個 dataframe 有兩個欄位，一個是國家，一個是人口，求人口數最多的國家\n",
    "\n",
    "### Hints: [隨機產生數值](https://blog.csdn.net/christianashannon/article/details/78867204)"
   ]
  },
  {
   "cell_type": "code",
   "execution_count": 79,
   "metadata": {},
   "outputs": [],
   "source": [
    "import pandas as pd\n",
    "import numpy as np\n",
    "import math"
   ]
  },
  {
   "cell_type": "code",
   "execution_count": 80,
   "metadata": {},
   "outputs": [],
   "source": [
    "import random\n",
    "\"\"\"\n",
    "    建立亂數陣列的模組\n",
    "    input:\n",
    "        start(int)  為亂數中的最小值\n",
    "        stop(int)   為亂數中的最大值\n",
    "        length(int) 為亂數的長度\n",
    "    return:\n",
    "        list(arr)   亂數陣列\n",
    "\"\"\"\n",
    "\n",
    "def random_list(start,stop,length):\n",
    "    if length>0:\n",
    "        if start <= stop: \n",
    "         list = []\n",
    "        else:\n",
    "            return \"最小值不能大於最大值\"\n",
    "    else:\n",
    "        return \"長度要大於0\"\n",
    "    for i in range(length):\n",
    "        list.append(random.randint(start, stop))\n",
    "    return list\n"
   ]
  },
  {
   "cell_type": "code",
   "execution_count": 82,
   "metadata": {},
   "outputs": [],
   "source": [
    "\"\"\"\n",
    "    找出陣列某一欄的最大值顯示該其他欄位資料\n",
    "    input:\n",
    "        data(arr) 該資料\n",
    "        key(str) 比較最大值的欄位\n",
    "        show_key(str) 要找的欄位\n",
    "    return:\n",
    "        show_val(val) 找的欄位的資料\n",
    "        max_key(val) key的最大值\n",
    "\"\"\"\n",
    "def max_country_name(data,key,show_key):\n",
    "    for i in range(len(data[key])):\n",
    "        if data[key][i] == max(data[key]):\n",
    "            show_val = data[show_key][i]\n",
    "            max_key = data[key][i]\n",
    "    return [show_val,max_key]"
   ]
  },
  {
   "cell_type": "code",
   "execution_count": 92,
   "metadata": {
    "scrolled": true
   },
   "outputs": [
    {
     "name": "stdout",
     "output_type": "stream",
     "text": [
      "    國家         人口\n",
      "0   台灣  870805534\n",
      "1   日本  240123774\n",
      "2   韓國  184623952\n",
      "3   美國  430249784\n",
      "4   德國  782182054\n",
      "5  加拿大  362330589\n",
      "6   法國  698501880\n",
      "7   印度  201375875\n",
      "8   中國  659578630\n"
     ]
    }
   ],
   "source": [
    "country = ['台灣','日本','韓國','美國','德國','加拿大','法國','印度','中國'] #國家 新增國家 在此新增即可\n",
    "number = random_list(1000000,1000000000,len(country)) #求亂數人口100萬到1億間\n",
    "data = {'國家': country ,\n",
    "        '人口': number }\n",
    "data = pd.DataFrame(data)\n",
    "print(data)\n"
   ]
  },
  {
   "cell_type": "code",
   "execution_count": 93,
   "metadata": {},
   "outputs": [
    {
     "name": "stdout",
     "output_type": "stream",
     "text": [
      "人口數最多的國家是 台灣 ,人口數為: 870805534\n"
     ]
    }
   ],
   "source": [
    "max_arr = max_country_name(data,'人口','國家')\n",
    "print('人口數最多的國家是',max_arr[0],',人口數為:',max_arr[1])"
   ]
  },
  {
   "cell_type": "markdown",
   "metadata": {},
   "source": [
    "## [下一天 D3-2 :如何讀取其他資料?](https://github.com/andrew623849/2nd-ML-100Days/blob/master/D03/Day_003-2_HW.ipynb)\n"
   ]
  },
  {
   "cell_type": "code",
   "execution_count": null,
   "metadata": {},
   "outputs": [],
   "source": []
  }
 ],
 "metadata": {
  "kernelspec": {
   "display_name": "Python 3",
   "language": "python",
   "name": "python3"
  },
  "language_info": {
   "codemirror_mode": {
    "name": "ipython",
    "version": 3
   },
   "file_extension": ".py",
   "mimetype": "text/x-python",
   "name": "python",
   "nbconvert_exporter": "python",
   "pygments_lexer": "ipython3",
   "version": "3.7.1"
  }
 },
 "nbformat": 4,
 "nbformat_minor": 2
}
